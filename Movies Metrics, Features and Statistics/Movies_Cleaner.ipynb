{
  "nbformat": 4,
  "nbformat_minor": 0,
  "metadata": {
    "colab": {
      "provenance": []
    },
    "kernelspec": {
      "name": "python3",
      "display_name": "Python 3"
    },
    "language_info": {
      "name": "python"
    }
  },
  "cells": [
    {
      "cell_type": "code",
      "execution_count": 144,
      "metadata": {
        "colab": {
          "base_uri": "https://localhost:8080/"
        },
        "id": "N3vzIRMHTJOW",
        "outputId": "a6fdf136-23c2-4a50-c811-a8cf0cf0297d"
      },
      "outputs": [
        {
          "output_type": "stream",
          "name": "stdout",
          "text": [
            "<class 'pandas.core.frame.DataFrame'>\n",
            "RangeIndex: 6569 entries, 0 to 6568\n",
            "Data columns (total 34 columns):\n",
            " #   Column                           Non-Null Count  Dtype \n",
            "---  ------                           --------------  ----- \n",
            " 0   Unnamed: 0                       6569 non-null   object\n",
            " 1   ReleaseDate                      6569 non-null   object\n",
            " 2   Movie                            6569 non-null   object\n",
            " 3   ProductionBudget                 6569 non-null   object\n",
            " 4   DomesticGross                    6569 non-null   object\n",
            " 5   WorldwideGross                   6569 non-null   object\n",
            " 6   Movie URL                        6569 non-null   object\n",
            " 7   Domestic Box Office              5847 non-null   object\n",
            " 8   International Box Office         5044 non-null   object\n",
            " 9   Worldwide Box Office             5044 non-null   object\n",
            " 10  Est. Domestic DVD Sales          2566 non-null   object\n",
            " 11  Est. Domestic Blu-ray Sales      2156 non-null   object\n",
            " 12  Total Est. Domestic Video Sales  2750 non-null   object\n",
            " 13  Opening Weekend:                 5396 non-null   object\n",
            " 14  Legs:                            5561 non-null   object\n",
            " 15  Domestic Share:                  5847 non-null   object\n",
            " 16  Production Budget:               6568 non-null   object\n",
            " 17  Theater counts:                  5394 non-null   object\n",
            " 18  Infl. Adj. Dom. BO               5638 non-null   object\n",
            " 19  Domestic Releases:               6106 non-null   object\n",
            " 20  International Releases:          3231 non-null   object\n",
            " 21  Video Release:                   5353 non-null   object\n",
            " 22  MPAA Rating:                     6179 non-null   object\n",
            " 23  Running Time:                    5752 non-null   object\n",
            " 24  Franchise:                       1423 non-null   object\n",
            " 25  Comparisons:                     6506 non-null   object\n",
            " 26  Keywords:                        5685 non-null   object\n",
            " 27  Source:                          6301 non-null   object\n",
            " 28  Genre:                           6374 non-null   object\n",
            " 29  Production Method:               6366 non-null   object\n",
            " 30  Creative Type:                   6269 non-null   object\n",
            " 31  Production/Financing Companies:  4200 non-null   object\n",
            " 32  Production Countries:            6019 non-null   object\n",
            " 33  Languages:                       5603 non-null   object\n",
            "dtypes: object(34)\n",
            "memory usage: 1.7+ MB\n",
            "None\n"
          ]
        }
      ],
      "source": [
        "import pandas as pd\n",
        "import re\n",
        "file_path = \"Top Movies.csv\"  # Replace with your file path\n",
        "df = pd.read_csv(file_path)\n",
        "print(df.info())  # Summary of the DataFrame"
      ]
    },
    {
      "cell_type": "code",
      "source": [
        "# Remove the specified columns\n",
        "df_cleaned = df.drop(columns=[\"Comparisons:\",\"Production\\xa0Budget:\"])\n",
        "\n",
        "# Display the cleaned DataFrame\n",
        "print(df_cleaned.info())\n"
      ],
      "metadata": {
        "colab": {
          "base_uri": "https://localhost:8080/"
        },
        "id": "tTC39LE6Upw9",
        "outputId": "5af88df8-3c1b-4a82-ce78-e97e38105941"
      },
      "execution_count": 145,
      "outputs": [
        {
          "output_type": "stream",
          "name": "stdout",
          "text": [
            "<class 'pandas.core.frame.DataFrame'>\n",
            "RangeIndex: 6569 entries, 0 to 6568\n",
            "Data columns (total 32 columns):\n",
            " #   Column                           Non-Null Count  Dtype \n",
            "---  ------                           --------------  ----- \n",
            " 0   Unnamed: 0                       6569 non-null   object\n",
            " 1   ReleaseDate                      6569 non-null   object\n",
            " 2   Movie                            6569 non-null   object\n",
            " 3   ProductionBudget                 6569 non-null   object\n",
            " 4   DomesticGross                    6569 non-null   object\n",
            " 5   WorldwideGross                   6569 non-null   object\n",
            " 6   Movie URL                        6569 non-null   object\n",
            " 7   Domestic Box Office              5847 non-null   object\n",
            " 8   International Box Office         5044 non-null   object\n",
            " 9   Worldwide Box Office             5044 non-null   object\n",
            " 10  Est. Domestic DVD Sales          2566 non-null   object\n",
            " 11  Est. Domestic Blu-ray Sales      2156 non-null   object\n",
            " 12  Total Est. Domestic Video Sales  2750 non-null   object\n",
            " 13  Opening Weekend:                 5396 non-null   object\n",
            " 14  Legs:                            5561 non-null   object\n",
            " 15  Domestic Share:                  5847 non-null   object\n",
            " 16  Theater counts:                  5394 non-null   object\n",
            " 17  Infl. Adj. Dom. BO               5638 non-null   object\n",
            " 18  Domestic Releases:               6106 non-null   object\n",
            " 19  International Releases:          3231 non-null   object\n",
            " 20  Video Release:                   5353 non-null   object\n",
            " 21  MPAA Rating:                     6179 non-null   object\n",
            " 22  Running Time:                    5752 non-null   object\n",
            " 23  Franchise:                       1423 non-null   object\n",
            " 24  Keywords:                        5685 non-null   object\n",
            " 25  Source:                          6301 non-null   object\n",
            " 26  Genre:                           6374 non-null   object\n",
            " 27  Production Method:               6366 non-null   object\n",
            " 28  Creative Type:                   6269 non-null   object\n",
            " 29  Production/Financing Companies:  4200 non-null   object\n",
            " 30  Production Countries:            6019 non-null   object\n",
            " 31  Languages:                       5603 non-null   object\n",
            "dtypes: object(32)\n",
            "memory usage: 1.6+ MB\n",
            "None\n"
          ]
        }
      ]
    },
    {
      "cell_type": "code",
      "source": [
        "# Rename the columns\n",
        "new_column_names = {\n",
        "    \"Unnamed: 0\": \"id\",\n",
        "    \"ReleaseDate\": \"Release Date\",\n",
        "    \"Movie\": \"Movie Name\",\n",
        "    \"ProductionBudget\": \"Production Budget (USD)\",\n",
        "    \"DomesticGross\": \"Domestic Gross (USD)\",\n",
        "    \"WorldwideGross\": \"Worldwide Gross (USD)\",\n",
        "    \"Movie URL\": \"Movie URL\",\n",
        "    \"Domestic Box Office\": \"Domestic Box Office (USD)\",\n",
        "    \"International Box Office\": \"International Box Office (USD)\",\n",
        "    \"Worldwide Box Office\": \"Worldwide Box Office (USD)\",\n",
        "    \"Est. Domestic DVD Sales\": \"Est. Domestic DVD Sales (USD)\",\n",
        "    \"Est. Domestic Blu-ray Sales\": \"Est. Domestic Blu-ray Sales (USD)\",\n",
        "    \"Total Est. Domestic Video Sales\": \"Total Est. Domestic Video Sales (USD)\",\n",
        "    \"Opening\\xa0Weekend:\": \"Opening Weekend (USD)\",\n",
        "    \"Legs:\": \"Legs\",\n",
        "    \"Domestic Share:\": \"Domestic Share Percentage\",\n",
        "    \"Theater counts:\": \"Theater counts\",\n",
        "    \"Infl. Adj. Dom. BO\": \"Infl. Adj. Dom. BO (USD)\",\n",
        "    \"Domestic Releases:\": \"Domestic Releases\",\n",
        "    \"International Releases:\": \"International Releases\",\n",
        "    \"Video\\xa0Release:\": \"Video Release\",\n",
        "    \"MPAA\\xa0Rating:\": \"MPAA Rating\",\n",
        "    \"Running Time:\": \"Running Time (minutes)\",\n",
        "    \"Franchise:\": \"Franchise\",\n",
        "    \"Keywords:\": \"Keywords\",\n",
        "    \"Source:\": \"Source\",\n",
        "    \"Genre:\": \"Genre\",\n",
        "    \"Production\\xa0Method:\": \"Production Method\",\n",
        "    \"Creative\\xa0Type:\": \"Creative Type\",\n",
        "    \"Production/Financing Companies:\": \"Production/Financing Companies\",\n",
        "    \"Production Countries:\": \"Production Countries\",\n",
        "    \"Languages:\": \"Languages\"\n",
        "}\n",
        "\n",
        "df_cleaned.rename(columns=new_column_names, inplace=True)\n",
        "\n",
        "# Display the updated columns to confirm the renaming\n",
        "print(df_cleaned.columns.tolist())\n",
        "print(df_cleaned.info())\n"
      ],
      "metadata": {
        "colab": {
          "base_uri": "https://localhost:8080/"
        },
        "id": "4gnaAnpTZO5I",
        "outputId": "9f03f886-f553-4098-da9b-668d83bdd03e"
      },
      "execution_count": 146,
      "outputs": [
        {
          "output_type": "stream",
          "name": "stdout",
          "text": [
            "['id', 'Release Date', 'Movie Name', 'Production Budget (USD)', 'Domestic Gross (USD)', 'Worldwide Gross (USD)', 'Movie URL', 'Domestic Box Office (USD)', 'International Box Office (USD)', 'Worldwide Box Office (USD)', 'Est. Domestic DVD Sales (USD)', 'Est. Domestic Blu-ray Sales (USD)', 'Total Est. Domestic Video Sales (USD)', 'Opening Weekend (USD)', 'Legs', 'Domestic Share Percentage', 'Theater counts', 'Infl. Adj. Dom. BO (USD)', 'Domestic Releases', 'International Releases', 'Video Release', 'MPAA Rating', 'Running Time (minutes)', 'Franchise', 'Keywords', 'Source', 'Genre', 'Production Method', 'Creative Type', 'Production/Financing Companies', 'Production Countries', 'Languages']\n",
            "<class 'pandas.core.frame.DataFrame'>\n",
            "RangeIndex: 6569 entries, 0 to 6568\n",
            "Data columns (total 32 columns):\n",
            " #   Column                                 Non-Null Count  Dtype \n",
            "---  ------                                 --------------  ----- \n",
            " 0   id                                     6569 non-null   object\n",
            " 1   Release Date                           6569 non-null   object\n",
            " 2   Movie Name                             6569 non-null   object\n",
            " 3   Production Budget (USD)                6569 non-null   object\n",
            " 4   Domestic Gross (USD)                   6569 non-null   object\n",
            " 5   Worldwide Gross (USD)                  6569 non-null   object\n",
            " 6   Movie URL                              6569 non-null   object\n",
            " 7   Domestic Box Office (USD)              5847 non-null   object\n",
            " 8   International Box Office (USD)         5044 non-null   object\n",
            " 9   Worldwide Box Office (USD)             5044 non-null   object\n",
            " 10  Est. Domestic DVD Sales (USD)          2566 non-null   object\n",
            " 11  Est. Domestic Blu-ray Sales (USD)      2156 non-null   object\n",
            " 12  Total Est. Domestic Video Sales (USD)  2750 non-null   object\n",
            " 13  Opening Weekend (USD)                  5396 non-null   object\n",
            " 14  Legs                                   5561 non-null   object\n",
            " 15  Domestic Share Percentage              5847 non-null   object\n",
            " 16  Theater counts                         5394 non-null   object\n",
            " 17  Infl. Adj. Dom. BO (USD)               5638 non-null   object\n",
            " 18  Domestic Releases                      6106 non-null   object\n",
            " 19  International Releases                 3231 non-null   object\n",
            " 20  Video Release                          5353 non-null   object\n",
            " 21  MPAA Rating                            6179 non-null   object\n",
            " 22  Running Time (minutes)                 5752 non-null   object\n",
            " 23  Franchise                              1423 non-null   object\n",
            " 24  Keywords                               5685 non-null   object\n",
            " 25  Source                                 6301 non-null   object\n",
            " 26  Genre                                  6374 non-null   object\n",
            " 27  Production Method                      6366 non-null   object\n",
            " 28  Creative Type                          6269 non-null   object\n",
            " 29  Production/Financing Companies         4200 non-null   object\n",
            " 30  Production Countries                   6019 non-null   object\n",
            " 31  Languages                              5603 non-null   object\n",
            "dtypes: object(32)\n",
            "memory usage: 1.6+ MB\n",
            "None\n"
          ]
        }
      ]
    },
    {
      "cell_type": "code",
      "source": [
        "# Define the new column order\n",
        "new_column_order = [\n",
        "    \"id\",\n",
        "    \"Movie Name\",\n",
        "    \"Release Date\",\n",
        "    \"Production Budget (USD)\",\n",
        "    \"Domestic Gross (USD)\",\n",
        "    \"Worldwide Gross (USD)\",\n",
        "    \"Domestic Box Office (USD)\",\n",
        "    \"International Box Office (USD)\",\n",
        "    \"Worldwide Box Office (USD)\",\n",
        "    \"Est. Domestic DVD Sales (USD)\",\n",
        "    \"Est. Domestic Blu-ray Sales (USD)\",\n",
        "    \"Total Est. Domestic Video Sales (USD)\",\n",
        "    \"Opening Weekend (USD)\",\n",
        "    \"Legs\",\n",
        "    \"Infl. Adj. Dom. BO (USD)\",\n",
        "    \"Video Release\",\n",
        "    \"MPAA Rating\",\n",
        "    \"Running Time (minutes)\",\n",
        "    \"Franchise\",\n",
        "    \"Keywords\",\n",
        "    \"Source\",\n",
        "    \"Genre\",\n",
        "    \"Production Method\",\n",
        "    \"Creative Type\",\n",
        "    \"Production/Financing Companies\",\n",
        "    \"Production Countries\",\n",
        "    \"Languages\",\n",
        "    \"Domestic Releases\",\n",
        "    \"International Releases\",\n",
        "    \"Theater counts\",\n",
        "    \"Domestic Share Percentage\",\n",
        "    \"Movie URL\"\n",
        "]\n",
        "\n",
        "# Reorder the columns\n",
        "df_cleaned = df_cleaned[new_column_order]\n",
        "\n",
        "# Display the first few rows of the reordered DataFrame\n",
        "print(df_cleaned.info())\n"
      ],
      "metadata": {
        "colab": {
          "base_uri": "https://localhost:8080/"
        },
        "id": "rAY69ppoZj4Q",
        "outputId": "5b333197-e113-41a7-bbe0-d10acde786bb"
      },
      "execution_count": 147,
      "outputs": [
        {
          "output_type": "stream",
          "name": "stdout",
          "text": [
            "<class 'pandas.core.frame.DataFrame'>\n",
            "RangeIndex: 6569 entries, 0 to 6568\n",
            "Data columns (total 32 columns):\n",
            " #   Column                                 Non-Null Count  Dtype \n",
            "---  ------                                 --------------  ----- \n",
            " 0   id                                     6569 non-null   object\n",
            " 1   Movie Name                             6569 non-null   object\n",
            " 2   Release Date                           6569 non-null   object\n",
            " 3   Production Budget (USD)                6569 non-null   object\n",
            " 4   Domestic Gross (USD)                   6569 non-null   object\n",
            " 5   Worldwide Gross (USD)                  6569 non-null   object\n",
            " 6   Domestic Box Office (USD)              5847 non-null   object\n",
            " 7   International Box Office (USD)         5044 non-null   object\n",
            " 8   Worldwide Box Office (USD)             5044 non-null   object\n",
            " 9   Est. Domestic DVD Sales (USD)          2566 non-null   object\n",
            " 10  Est. Domestic Blu-ray Sales (USD)      2156 non-null   object\n",
            " 11  Total Est. Domestic Video Sales (USD)  2750 non-null   object\n",
            " 12  Opening Weekend (USD)                  5396 non-null   object\n",
            " 13  Legs                                   5561 non-null   object\n",
            " 14  Infl. Adj. Dom. BO (USD)               5638 non-null   object\n",
            " 15  Video Release                          5353 non-null   object\n",
            " 16  MPAA Rating                            6179 non-null   object\n",
            " 17  Running Time (minutes)                 5752 non-null   object\n",
            " 18  Franchise                              1423 non-null   object\n",
            " 19  Keywords                               5685 non-null   object\n",
            " 20  Source                                 6301 non-null   object\n",
            " 21  Genre                                  6374 non-null   object\n",
            " 22  Production Method                      6366 non-null   object\n",
            " 23  Creative Type                          6269 non-null   object\n",
            " 24  Production/Financing Companies         4200 non-null   object\n",
            " 25  Production Countries                   6019 non-null   object\n",
            " 26  Languages                              5603 non-null   object\n",
            " 27  Domestic Releases                      6106 non-null   object\n",
            " 28  International Releases                 3231 non-null   object\n",
            " 29  Theater counts                         5394 non-null   object\n",
            " 30  Domestic Share Percentage              5847 non-null   object\n",
            " 31  Movie URL                              6569 non-null   object\n",
            "dtypes: object(32)\n",
            "memory usage: 1.6+ MB\n",
            "None\n"
          ]
        }
      ]
    },
    {
      "cell_type": "code",
      "source": [
        "# Function to extract the dollar amount from the \"Opening Weekend (USD)\" column\n",
        "def extract_opening_weekend(value):\n",
        "    if isinstance(value, str):\n",
        "        # Use regular expression to match the dollar amount before the parentheses\n",
        "        match = re.match(r'(\\$[\\d,]+)', value)\n",
        "        if match:\n",
        "            return match.group(1)  # Return the matched dollar amount\n",
        "    return value  # Return the value as is if it's not a string or doesn't match the pattern\n",
        "\n",
        "# Apply the function to the \"Opening Weekend (USD)\" column\n",
        "df_cleaned['Opening Weekend (USD)'] = df_cleaned['Opening Weekend (USD)'].apply(extract_opening_weekend)\n",
        "\n",
        "# Check the result\n",
        "print(df_cleaned[['Opening Weekend (USD)']].head())\n"
      ],
      "metadata": {
        "colab": {
          "base_uri": "https://localhost:8080/"
        },
        "id": "N-jLsLz5v41G",
        "outputId": "fbf989fd-f738-4133-969d-116fe233b4fc"
      },
      "execution_count": 148,
      "outputs": [
        {
          "output_type": "stream",
          "name": "stdout",
          "text": [
            "  Opening Weekend (USD)\n",
            "0          $247,966,675\n",
            "1          $134,100,226\n",
            "2           $60,368,101\n",
            "3          $357,115,007\n",
            "4                   NaN\n"
          ]
        }
      ]
    },
    {
      "cell_type": "code",
      "source": [
        "# Identify columns with \"(USD)\" in their names\n",
        "usd_columns = [col for col in df_cleaned.columns if \"(USD)\" in col]\n",
        "\n",
        "# Remove the dollar sign \"$\" from all entries in those columns\n",
        "for col in usd_columns:\n",
        "    df_cleaned[col] = df_cleaned[col].astype(str).str.replace(',', '').str.replace('$', '', regex=False).str.strip()\n",
        "\n",
        "df_cleaned[usd_columns] = df_cleaned[usd_columns].apply(pd.to_numeric, errors='coerce')\n",
        "\n",
        "# Display the first few rows of the modified DataFrame to confirm\n",
        "print(df_cleaned[usd_columns].head(1))"
      ],
      "metadata": {
        "colab": {
          "base_uri": "https://localhost:8080/"
        },
        "id": "0bz0UNiZcc4U",
        "outputId": "92fbd9fa-4e02-4609-eb2a-afb3fb8b6937"
      },
      "execution_count": 149,
      "outputs": [
        {
          "output_type": "stream",
          "name": "stdout",
          "text": [
            "   Production Budget (USD)  Domestic Gross (USD)  Worldwide Gross (USD)  \\\n",
            "0                533200000             936662225             2056046835   \n",
            "\n",
            "   Domestic Box Office (USD)  International Box Office (USD)  \\\n",
            "0                936662225.0                    1.119385e+09   \n",
            "\n",
            "   Worldwide Box Office (USD)  Est. Domestic DVD Sales (USD)  \\\n",
            "0                2.056047e+09                     39601100.0   \n",
            "\n",
            "   Est. Domestic Blu-ray Sales (USD)  Total Est. Domestic Video Sales (USD)  \\\n",
            "0                        151559711.0                            191160811.0   \n",
            "\n",
            "   Opening Weekend (USD)  Infl. Adj. Dom. BO (USD)  \n",
            "0            247966675.0              1.191448e+09  \n"
          ]
        }
      ]
    },
    {
      "cell_type": "code",
      "source": [
        "# Remove the word \"minutes\" from the \"Running Time (minutes)\" column\n",
        "df_cleaned[\"Running Time (minutes)\"] = df_cleaned[\"Running Time (minutes)\"].str.replace(\"minutes\", \"\").str.strip()\n",
        "\n",
        "# Display the first few rows of the modified column to confirm\n",
        "print(df_cleaned[\"Running Time (minutes)\"].head(3))\n"
      ],
      "metadata": {
        "colab": {
          "base_uri": "https://localhost:8080/"
        },
        "id": "h6O9PnTmcjQz",
        "outputId": "bfa91fc6-bd9c-4a83-bb6d-beafafc52911"
      },
      "execution_count": 150,
      "outputs": [
        {
          "output_type": "stream",
          "name": "stdout",
          "text": [
            "0    136\n",
            "1    190\n",
            "2    142\n",
            "Name: Running Time (minutes), dtype: object\n"
          ]
        }
      ]
    },
    {
      "cell_type": "code",
      "source": [
        "# Replace \"/\" with \",\" in the \"Production Method\" column\n",
        "df_cleaned[\"Production Method\"] = df_cleaned[\"Production Method\"].str.replace(\"/\", \",\")\n",
        "\n",
        "# Display the first few rows of the modified column to confirm\n",
        "print(df_cleaned[\"Production Method\"].head(3))\n"
      ],
      "metadata": {
        "colab": {
          "base_uri": "https://localhost:8080/"
        },
        "id": "TLnnkAA2eOfq",
        "outputId": "ef2ad332-4c8e-4006-d395-a178f78f6570"
      },
      "execution_count": 151,
      "outputs": [
        {
          "output_type": "stream",
          "name": "stdout",
          "text": [
            "0    Animation,Live Action\n",
            "1    Animation,Live Action\n",
            "2              Live Action\n",
            "Name: Production Method, dtype: object\n"
          ]
        }
      ]
    },
    {
      "cell_type": "code",
      "source": [
        "# Replace entries in the \"MPAA Rating\" column based on the specified conditions\n",
        "df_cleaned[\"MPAA Rating\"] = df_cleaned[\"MPAA Rating\"].apply(\n",
        "    lambda x: (\"R\" if x.startswith(\"R\") else\n",
        "               \"PG-13\" if x.startswith(\"PG-13\") else\n",
        "               \"G\" if x.startswith(\"G\") else\n",
        "               \"PG\" if x.startswith(\"PG\") else x) if isinstance(x, str) else x\n",
        ")\n",
        "\n",
        "\n",
        "# Display the first few rows of the modified column to confirm\n",
        "print(df_cleaned[\"MPAA Rating\"].head(200))\n"
      ],
      "metadata": {
        "colab": {
          "base_uri": "https://localhost:8080/"
        },
        "id": "kZ9zPezheQQq",
        "outputId": "05ac3970-3dd3-494c-db78-71b90d29fb53"
      },
      "execution_count": 152,
      "outputs": [
        {
          "output_type": "stream",
          "name": "stdout",
          "text": [
            "0      PG-13\n",
            "1      PG-13\n",
            "2      PG-13\n",
            "3      PG-13\n",
            "4        NaN\n",
            "       ...  \n",
            "195       PG\n",
            "196    PG-13\n",
            "197    PG-13\n",
            "198    PG-13\n",
            "199    PG-13\n",
            "Name: MPAA Rating, Length: 200, dtype: object\n"
          ]
        }
      ]
    },
    {
      "cell_type": "code",
      "source": [
        "# Sample data to work with\n",
        "# df_cleaned = pd.read_csv('your_file.csv')\n",
        "\n",
        "# Function to clean the \"Video Release\" column by removing everything from \"by\" onward\n",
        "def clean_by_part(value):\n",
        "    if isinstance(value, str):\n",
        "        # Use regular expression to remove everything starting from \"by\" (including \"by\" itself)\n",
        "        return re.sub(r'\\s*by.*', '', value)\n",
        "    return value  # Return value as is if it's not a string (NaN or other non-string)\n",
        "\n",
        "# Apply the function to the \"Video Release\" column\n",
        "df_cleaned['Video Release'] = df_cleaned['Video Release'].apply(clean_by_part)\n",
        "\n",
        "# Check the result\n",
        "print(df_cleaned[['Video Release']].head())\n"
      ],
      "metadata": {
        "colab": {
          "base_uri": "https://localhost:8080/"
        },
        "id": "JE1JkZnPiE_l",
        "outputId": "07adfd3e-5fc0-4932-acdc-4bf8217e4efd"
      },
      "execution_count": 153,
      "outputs": [
        {
          "output_type": "stream",
          "name": "stdout",
          "text": [
            "       Video Release\n",
            "0    April 1st, 2016\n",
            "1   March 28th, 2023\n",
            "2  August 29th, 2023\n",
            "3    July 30th, 2019\n",
            "4                NaN\n"
          ]
        }
      ]
    },
    {
      "cell_type": "code",
      "source": [
        "def remove_ordinal_suffix(date_str):\n",
        "    if isinstance(date_str, str):\n",
        "        # Remove ordinal suffixes like 'st', 'nd', 'rd', 'th'\n",
        "        date_str = re.sub(r'(\\d+)(st|nd|rd|th)', r'\\1', date_str)\n",
        "    return date_str\n",
        "\n",
        "# Apply the function to remove ordinal suffixes\n",
        "df_cleaned['Video Release'] = df_cleaned['Video Release'].apply(remove_ordinal_suffix)\n",
        "\n",
        "# Convert the cleaned column to a datetime format\n",
        "df_cleaned['Video Release'] = pd.to_datetime(df_cleaned['Video Release'], errors='coerce')\n",
        "\n",
        "# Check the result\n",
        "print(df_cleaned[['Video Release']].head())"
      ],
      "metadata": {
        "colab": {
          "base_uri": "https://localhost:8080/"
        },
        "id": "j6x2Bf-kjI-0",
        "outputId": "889bd0e6-6397-4222-82e3-15ccee463c8b"
      },
      "execution_count": 154,
      "outputs": [
        {
          "output_type": "stream",
          "name": "stdout",
          "text": [
            "  Video Release\n",
            "0    2016-04-01\n",
            "1    2023-03-28\n",
            "2    2023-08-29\n",
            "3    2019-07-30\n",
            "4           NaT\n"
          ]
        }
      ]
    },
    {
      "cell_type": "code",
      "source": [
        "print(df_cleaned['Video Release'].dtype)"
      ],
      "metadata": {
        "colab": {
          "base_uri": "https://localhost:8080/"
        },
        "id": "F2i8w8dmmPcQ",
        "outputId": "957d9253-a4d5-4faf-b730-a416bfc70e32"
      },
      "execution_count": 155,
      "outputs": [
        {
          "output_type": "stream",
          "name": "stdout",
          "text": [
            "datetime64[ns]\n"
          ]
        }
      ]
    },
    {
      "cell_type": "code",
      "source": [
        "print(df_cleaned.info())"
      ],
      "metadata": {
        "colab": {
          "base_uri": "https://localhost:8080/"
        },
        "id": "zhfhL45Om3nU",
        "outputId": "e5286818-ae09-4ddb-bcbc-7721255b8409"
      },
      "execution_count": 156,
      "outputs": [
        {
          "output_type": "stream",
          "name": "stdout",
          "text": [
            "<class 'pandas.core.frame.DataFrame'>\n",
            "RangeIndex: 6569 entries, 0 to 6568\n",
            "Data columns (total 32 columns):\n",
            " #   Column                                 Non-Null Count  Dtype         \n",
            "---  ------                                 --------------  -----         \n",
            " 0   id                                     6569 non-null   object        \n",
            " 1   Movie Name                             6569 non-null   object        \n",
            " 2   Release Date                           6569 non-null   object        \n",
            " 3   Production Budget (USD)                6569 non-null   int64         \n",
            " 4   Domestic Gross (USD)                   6569 non-null   int64         \n",
            " 5   Worldwide Gross (USD)                  6569 non-null   int64         \n",
            " 6   Domestic Box Office (USD)              5847 non-null   float64       \n",
            " 7   International Box Office (USD)         5044 non-null   float64       \n",
            " 8   Worldwide Box Office (USD)             5044 non-null   float64       \n",
            " 9   Est. Domestic DVD Sales (USD)          2566 non-null   float64       \n",
            " 10  Est. Domestic Blu-ray Sales (USD)      2156 non-null   float64       \n",
            " 11  Total Est. Domestic Video Sales (USD)  2750 non-null   float64       \n",
            " 12  Opening Weekend (USD)                  5396 non-null   float64       \n",
            " 13  Legs                                   5561 non-null   object        \n",
            " 14  Infl. Adj. Dom. BO (USD)               5638 non-null   float64       \n",
            " 15  Video Release                          5338 non-null   datetime64[ns]\n",
            " 16  MPAA Rating                            6179 non-null   object        \n",
            " 17  Running Time (minutes)                 5752 non-null   object        \n",
            " 18  Franchise                              1423 non-null   object        \n",
            " 19  Keywords                               5685 non-null   object        \n",
            " 20  Source                                 6301 non-null   object        \n",
            " 21  Genre                                  6374 non-null   object        \n",
            " 22  Production Method                      6366 non-null   object        \n",
            " 23  Creative Type                          6269 non-null   object        \n",
            " 24  Production/Financing Companies         4200 non-null   object        \n",
            " 25  Production Countries                   6019 non-null   object        \n",
            " 26  Languages                              5603 non-null   object        \n",
            " 27  Domestic Releases                      6106 non-null   object        \n",
            " 28  International Releases                 3231 non-null   object        \n",
            " 29  Theater counts                         5394 non-null   object        \n",
            " 30  Domestic Share Percentage              5847 non-null   object        \n",
            " 31  Movie URL                              6569 non-null   object        \n",
            "dtypes: datetime64[ns](1), float64(8), int64(3), object(20)\n",
            "memory usage: 1.6+ MB\n",
            "None\n"
          ]
        }
      ]
    },
    {
      "cell_type": "code",
      "source": [
        "import pandas as pd\n",
        "\n",
        "# Apply the conversion to the \"Release Date\" column\n",
        "df_cleaned['Release Date'] = pd.to_datetime(df_cleaned['Release Date'], format='%d-%b-%y', errors='coerce')\n",
        "\n",
        "# Check the result\n",
        "print(df_cleaned[['Release Date']].head())\n"
      ],
      "metadata": {
        "colab": {
          "base_uri": "https://localhost:8080/"
        },
        "id": "4VLI_fA0pvtO",
        "outputId": "6cb1aef8-b909-44c4-d5a2-a5b15f3bab48"
      },
      "execution_count": 157,
      "outputs": [
        {
          "output_type": "stream",
          "name": "stdout",
          "text": [
            "  Release Date\n",
            "0   2015-12-16\n",
            "1   2022-12-09\n",
            "2   2023-06-28\n",
            "3   2019-04-23\n",
            "4   2025-05-21\n"
          ]
        }
      ]
    },
    {
      "cell_type": "code",
      "source": [
        "# Function to extract the percentage value\n",
        "def extract_percentage(value):\n",
        "    if isinstance(value, str):\n",
        "        # Use regular expression to extract the numeric part before the '%' symbol\n",
        "        match = re.match(r'([\\d\\.]+)%', value)\n",
        "        if match:\n",
        "            return float(match.group(1))  # Convert the matched string to a float\n",
        "    return value  # Return the value as is if it's not a string or doesn't match the pattern\n",
        "\n",
        "# Apply the function to the \"Domestic Share Percentage\" column\n",
        "df_cleaned['Domestic Share Percentage'] = df_cleaned['Domestic Share Percentage'].apply(extract_percentage)\n",
        "\n",
        "# Check the result\n",
        "print(df_cleaned[['Domestic Share Percentage']].head(10))"
      ],
      "metadata": {
        "colab": {
          "base_uri": "https://localhost:8080/"
        },
        "id": "UgGE3NCPo0sX",
        "outputId": "cc8722b7-2d27-4052-df94-d45a879b1131"
      },
      "execution_count": 158,
      "outputs": [
        {
          "output_type": "stream",
          "name": "stdout",
          "text": [
            "   Domestic Share Percentage\n",
            "0                       45.6\n",
            "1                       29.5\n",
            "2                       45.4\n",
            "3                       31.2\n",
            "4                        NaN\n",
            "5                       23.1\n",
            "6                       32.9\n",
            "7                       20.5\n",
            "8                       54.4\n",
            "9                       33.1\n"
          ]
        }
      ]
    },
    {
      "cell_type": "code",
      "source": [
        "# Function to extract the numeric value from the \"Legs\" column\n",
        "def extract_legs(value):\n",
        "    if isinstance(value, str):\n",
        "        # Use regular expression to capture the numeric part before any non-numeric characters\n",
        "        match = re.match(r'([\\d\\.]+)', value)\n",
        "        if match:\n",
        "            return float(match.group(1))  # Convert the matched string to a float\n",
        "    return value  # Return the value as is if it's not a string or doesn't match the pattern\n",
        "\n",
        "# Apply the function to the \"Legs\" column\n",
        "df_cleaned['Legs'] = df_cleaned['Legs'].apply(extract_legs)\n",
        "\n",
        "# Check the result\n",
        "print(df_cleaned[['Legs']].head(10))"
      ],
      "metadata": {
        "colab": {
          "base_uri": "https://localhost:8080/"
        },
        "id": "yGMQYCc8pE9-",
        "outputId": "06a4780b-1a19-45d3-da06-0634ae502ccf"
      },
      "execution_count": 159,
      "outputs": [
        {
          "output_type": "stream",
          "name": "stdout",
          "text": [
            "   Legs\n",
            "0  3.78\n",
            "1  5.10\n",
            "2  2.89\n",
            "3  2.40\n",
            "4   NaN\n",
            "5  2.67\n",
            "6  2.40\n",
            "7  2.18\n",
            "8  2.53\n",
            "9  2.63\n"
          ]
        }
      ]
    },
    {
      "cell_type": "code",
      "source": [
        "print(df_cleaned.info())"
      ],
      "metadata": {
        "colab": {
          "base_uri": "https://localhost:8080/"
        },
        "id": "ZOmaNz4sqydl",
        "outputId": "8c99a0cd-1553-4ae2-9f5a-7a0ff8dd2e4d"
      },
      "execution_count": 160,
      "outputs": [
        {
          "output_type": "stream",
          "name": "stdout",
          "text": [
            "<class 'pandas.core.frame.DataFrame'>\n",
            "RangeIndex: 6569 entries, 0 to 6568\n",
            "Data columns (total 32 columns):\n",
            " #   Column                                 Non-Null Count  Dtype         \n",
            "---  ------                                 --------------  -----         \n",
            " 0   id                                     6569 non-null   object        \n",
            " 1   Movie Name                             6569 non-null   object        \n",
            " 2   Release Date                           6420 non-null   datetime64[ns]\n",
            " 3   Production Budget (USD)                6569 non-null   int64         \n",
            " 4   Domestic Gross (USD)                   6569 non-null   int64         \n",
            " 5   Worldwide Gross (USD)                  6569 non-null   int64         \n",
            " 6   Domestic Box Office (USD)              5847 non-null   float64       \n",
            " 7   International Box Office (USD)         5044 non-null   float64       \n",
            " 8   Worldwide Box Office (USD)             5044 non-null   float64       \n",
            " 9   Est. Domestic DVD Sales (USD)          2566 non-null   float64       \n",
            " 10  Est. Domestic Blu-ray Sales (USD)      2156 non-null   float64       \n",
            " 11  Total Est. Domestic Video Sales (USD)  2750 non-null   float64       \n",
            " 12  Opening Weekend (USD)                  5396 non-null   float64       \n",
            " 13  Legs                                   5561 non-null   float64       \n",
            " 14  Infl. Adj. Dom. BO (USD)               5638 non-null   float64       \n",
            " 15  Video Release                          5338 non-null   datetime64[ns]\n",
            " 16  MPAA Rating                            6179 non-null   object        \n",
            " 17  Running Time (minutes)                 5752 non-null   object        \n",
            " 18  Franchise                              1423 non-null   object        \n",
            " 19  Keywords                               5685 non-null   object        \n",
            " 20  Source                                 6301 non-null   object        \n",
            " 21  Genre                                  6374 non-null   object        \n",
            " 22  Production Method                      6366 non-null   object        \n",
            " 23  Creative Type                          6269 non-null   object        \n",
            " 24  Production/Financing Companies         4200 non-null   object        \n",
            " 25  Production Countries                   6019 non-null   object        \n",
            " 26  Languages                              5603 non-null   object        \n",
            " 27  Domestic Releases                      6106 non-null   object        \n",
            " 28  International Releases                 3231 non-null   object        \n",
            " 29  Theater counts                         5394 non-null   object        \n",
            " 30  Domestic Share Percentage              5847 non-null   float64       \n",
            " 31  Movie URL                              6569 non-null   object        \n",
            "dtypes: datetime64[ns](2), float64(10), int64(3), object(17)\n",
            "memory usage: 1.6+ MB\n",
            "None\n"
          ]
        }
      ]
    },
    {
      "cell_type": "code",
      "source": [
        "df_cleaned.loc[df_cleaned['id'] == '51', 'MPAA Rating'] = 'PG-13'"
      ],
      "metadata": {
        "id": "Odem5HNpvPPl"
      },
      "execution_count": 161,
      "outputs": []
    },
    {
      "cell_type": "code",
      "source": [
        "# Save the cleaned dataframe to a CSV file\n",
        "df_cleaned.to_csv('Top Movies Cleaned.csv', index=False)\n",
        "\n",
        "# Confirm that the file has been saved\n",
        "print(\"DataFrame has been saved to 'Top Movies Cleaned.csv'\")\n"
      ],
      "metadata": {
        "colab": {
          "base_uri": "https://localhost:8080/"
        },
        "id": "GetFGiIWsXAC",
        "outputId": "b933f63e-88b4-4751-b7fe-d9b3b65b507b"
      },
      "execution_count": 162,
      "outputs": [
        {
          "output_type": "stream",
          "name": "stdout",
          "text": [
            "DataFrame has been saved to 'Top Movies Cleaned.csv'\n"
          ]
        }
      ]
    }
  ]
}