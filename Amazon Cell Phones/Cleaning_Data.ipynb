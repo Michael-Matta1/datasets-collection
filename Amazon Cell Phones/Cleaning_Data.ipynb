{
 "cells": [
  {
   "cell_type": "code",
   "execution_count": 1,
   "id": "0c2f1ff1",
   "metadata": {},
   "outputs": [],
   "source": [
    "import pandas as pd\n",
    "import numpy as np"
   ]
  },
  {
   "cell_type": "code",
   "execution_count": 2,
   "id": "cda0a094",
   "metadata": {},
   "outputs": [],
   "source": [
    "df = pd.read_csv(path)\n"
   ]
  },
  {
   "cell_type": "code",
   "execution_count": 3,
   "id": "327d3d46",
   "metadata": {},
   "outputs": [],
   "source": [
    "# Remove commas \n",
    "df['price'] = df['price'].str.replace(',', '').astype(float)\n",
    "df['number_of_ratings'] = df['number_of_ratings'].str.replace(',', '').astype(float)\n",
    "df['price_before_discount'] = df['price_before_discount'].str.replace(',', '')"
   ]
  },
  {
   "cell_type": "code",
   "execution_count": 4,
   "id": "3d171450",
   "metadata": {},
   "outputs": [],
   "source": [
    "df['price'].replace(0, np.nan, inplace=True)\n"
   ]
  },
  {
   "cell_type": "code",
   "execution_count": 5,
   "id": "3a2402ad",
   "metadata": {},
   "outputs": [],
   "source": [
    "df['price'] = df['price'].astype(float)\n",
    "df['number_of_ratings'] = df['number_of_ratings'].astype(float)\n"
   ]
  },
  {
   "cell_type": "code",
   "execution_count": 6,
   "id": "548c5021",
   "metadata": {},
   "outputs": [],
   "source": [
    "# Count non-null values for each row\n",
    "df['non_null_count'] = df.notnull().sum(axis=1)\n",
    "\n",
    "# Sort the DataFrame by 'product_name' and 'non_null_count' in descending order\n",
    "df_sorted = df.sort_values(by=['product_name', 'non_null_count'], ascending=[True, False])\n",
    "\n",
    "# Drop duplicates, keeping the first occurrence (which has the most non-null values)\n",
    "df_cleaned = df_sorted.drop_duplicates(subset='product_name', keep='first')\n",
    "\n",
    "# Drop the temporary 'non_null_count' column\n",
    "df_cleaned = df_cleaned.drop(columns='non_null_count')\n",
    "\n",
    "df=df_cleaned"
   ]
  },
  {
   "cell_type": "code",
   "execution_count": 7,
   "id": "163dacda",
   "metadata": {},
   "outputs": [],
   "source": [
    "# Drop rows that have the same name\n",
    "#df = df.drop_duplicates(subset='product_name', keep='first')"
   ]
  },
  {
   "cell_type": "code",
   "execution_count": 8,
   "id": "0f81d0d0",
   "metadata": {},
   "outputs": [
    {
     "name": "stderr",
     "output_type": "stream",
     "text": [
      "C:\\Users\\mikel\\AppData\\Local\\Temp\\ipykernel_18948\\3495260639.py:2: FutureWarning: The default value of regex will change from True to False in a future version. In addition, single character regular expressions will *not* be treated as literal strings when regex=True.\n",
      "  df['price_before_discount'] = df['price_before_discount'].str.replace('$', '').astype(float)\n"
     ]
    }
   ],
   "source": [
    "df['product_link'] = df['product_link'].apply(lambda x: f'https://www.amazon.com{x}')\n",
    "df['price_before_discount'] = df['price_before_discount'].str.replace('$', '').astype(float)\n",
    "df['price'] = df['price'].astype(float)\n",
    "# Calculating discount where price_before_discount is non-zero and non-null\n",
    "df['discount_percentage'] = ((df['price_before_discount'] - df['price']) / df['price_before_discount']) * 100\n",
    "\n",
    "# Replace discount with 0 where price_before_discount is missing or zero to avoid errors\n",
    "df['discount_percentage'] = df['discount_percentage'].fillna(0).replace([float('inf'), -float('inf')], 0)\n"
   ]
  },
  {
   "cell_type": "code",
   "execution_count": 9,
   "id": "edff0079",
   "metadata": {},
   "outputs": [],
   "source": [
    "# Drop rows where all of the specified columns have missing values\n",
    "df = df.dropna(subset=['RAM', 'storage', 'operating_system','cellular_technology','CPU'], how='all')\n"
   ]
  },
  {
   "cell_type": "code",
   "execution_count": 10,
   "id": "d9b7e110",
   "metadata": {},
   "outputs": [],
   "source": [
    "# Calculate the columns that are not in the first part of the columns_order list\n",
    "extra_columns = [col for col in df.columns if col not in [\n",
    "    'product_name',\n",
    "    'product_link',\n",
    "    'image_link',\n",
    "    'price',\n",
    "    'discount_percentage',\n",
    "    'price_before_discount',\n",
    "    'rating',\n",
    "    'number_of_ratings'\n",
    "]]\n",
    "\n",
    "# Define the full columns order\n",
    "columns_order = [\n",
    "    'product_name',\n",
    "    'product_link',\n",
    "    'image_link',\n",
    "    'price',\n",
    "    'discount_percentage',\n",
    "    'price_before_discount',\n",
    "    'rating',\n",
    "    'number_of_ratings'\n",
    "] + extra_columns\n",
    "\n",
    "# Reordering the DataFrame columns\n",
    "df = df[columns_order]"
   ]
  },
  {
   "cell_type": "code",
   "execution_count": 11,
   "id": "a84d2ff0",
   "metadata": {},
   "outputs": [],
   "source": [
    "# Rename columns\n",
    "df = df.rename(columns={\n",
    "    'rating': 'rating_out_of_5',\n",
    "    'RAM': 'RAM (GB)',\n",
    "    'storage': 'Storage (GB)',\n",
    "    'screen_size': 'screen_size (Inches)',\n",
    "})"
   ]
  },
  {
   "cell_type": "code",
   "execution_count": 12,
   "id": "859fa845",
   "metadata": {},
   "outputs": [],
   "source": [
    "df['RAM (GB)'] = df['RAM (GB)'].replace('4 tablespoon\\(s\\)', np.nan, regex=True)\n",
    "df['RAM (GB)'] = df['RAM (GB)'].replace('6 32nds', np.nan)\n",
    "df['RAM (GB)'] = df['RAM (GB)'].replace('6 Accelerated Reader', np.nan)\n",
    "df['Storage (GB)'] = df['Storage (GB)'].replace('300 Milliliters', np.nan)\n",
    "\n",
    "df['screen_size (Inches)'] = df['screen_size (Inches)'].replace(r'300 Hundredths', np.nan, regex=True)\n"
   ]
  },
  {
   "cell_type": "code",
   "execution_count": 13,
   "id": "52c296fc",
   "metadata": {},
   "outputs": [],
   "source": [
    "# Function to convert to int if possible, otherwise to float\n",
    "def convert_to_int_or_float(value):\n",
    "    try:\n",
    "        return int(value)\n",
    "    except ValueError:\n",
    "        return float(value)\n",
    "\n",
    "    \n",
    "# Define a function to convert 'Gigabits' to GB\n",
    "def convert_gb_to_gb(value):\n",
    "    if isinstance(value, str) and 'Gigabits Per Second' in value:\n",
    "        return float(value.replace('Gigabits Per Second', '').strip()) / 8\n",
    "    return value    \n",
    "\n",
    "# Define a function to convert 'MB' values to GB\n",
    "def convert_mb_to_gb(value):\n",
    "    if isinstance(value, str) and 'MB' in value:\n",
    "        return float(value.replace('MB', '').strip()) / 1024\n",
    "    return value\n",
    "\n",
    "# Define a function to remove \"Units\"\n",
    "def delete_unit(value):\n",
    "    if isinstance(value, str) and 'Units' in value:\n",
    "        return float(value.replace('Units', '').strip())\n",
    "    return value\n",
    "\n",
    "# Define a function to convert 'TB' values to GB\n",
    "def convert_tb_to_gb(value):\n",
    "    if isinstance(value, str) and 'TB' in value:\n",
    "        return float(value.replace('TB', '').strip()) * 1024\n",
    "    return value\n",
    "\n",
    "# Define a function to convert 'Centimeters' to Inches\n",
    "def convert_cm_to_inches(value):\n",
    "    if isinstance(value, str) and 'Centimeters' in value:\n",
    "        return float(value.replace('Centimeters', '').strip()) * 0.393701\n",
    "    return value\n",
    "\n",
    "def convert_feet_to_inches(value):\n",
    "    if isinstance(value, str) and 'Feet' in value:\n",
    "        return float(value.replace('Feet', '').strip()) * 12\n",
    "    return value\n",
    "\n",
    "def convert_mm_to_inches(value):\n",
    "    if isinstance(value, str) and 'Millimeters' in value:\n",
    "        return float(value.replace('Millimeters', '').strip()) * 0.0393701\n",
    "    return value\n",
    "\n",
    "def convert_meters_to_inches(value):\n",
    "    if isinstance(value, str) and 'Meters' in value:\n",
    "        return float(value.replace('Meters', '').strip()) * 39.3701\n",
    "    return value\n",
    "\n",
    "\n",
    "\n",
    "df['RAM (GB)'] = df['RAM (GB)'].str.replace('A/W', '').str.strip()\n",
    "df['Storage (GB)'] = df['Storage (GB)'].str.replace('A/W', '').str.strip()\n",
    "\n",
    "df['RAM (GB)'] = df['RAM (GB)'].str.replace('Gigabytes Per Second', 'GB').str.strip()\n",
    "df['Storage (GB)'] = df['Storage (GB)'].str.replace('Gigabytes Per Second', 'GB').str.strip()\n",
    "\n",
    "# Clean the 'rating_out_of_5' column: Extract the numeric value from strings like \"4.1 out of 5 stars\"\n",
    "df['rating_out_of_5'] = df['rating_out_of_5'].str.extract(r'(\\d+\\.\\d+|\\d+)').astype(float)\n",
    "\n",
    "# Apply the conversion function\n",
    "df['number_of_ratings'] = df['number_of_ratings'].apply(convert_to_int_or_float)\n",
    "\n",
    "# Clean and convert 'RAM (GB)' column\n",
    "df['RAM (GB)'] = df['RAM (GB)'].str.replace('GB', '')\n",
    "# Clean and convert 'Storage (GB)' column\n",
    "df['Storage (GB)'] = df['Storage (GB)'].str.replace('GB', '')\n",
    "\n",
    "# Convert MB to GB and TB to GB for RAM and Storage\n",
    "df['RAM (GB)'] = df['RAM (GB)'].apply(convert_mb_to_gb)\n",
    "df['RAM (GB)'] = df['RAM (GB)'].apply(convert_tb_to_gb)\n",
    "df['RAM (GB)'] = df['RAM (GB)'].apply(convert_gb_to_gb)\n",
    "df['RAM (GB)'] = df['RAM (GB)'].apply(delete_unit)\n",
    "                                      \n",
    "df['Storage (GB)'] = df['Storage (GB)'].apply(convert_mb_to_gb)\n",
    "df['Storage (GB)'] = df['Storage (GB)'].apply(convert_tb_to_gb)\n",
    "\n",
    "# Apply the conversion function\n",
    "df['RAM (GB)'] = df['RAM (GB)'].apply(convert_to_int_or_float)\n",
    "df['Storage (GB)'] = df['Storage (GB)'].apply(convert_to_int_or_float)\n",
    "\n",
    "# Clean 'screen_size (Inches)' column: Remove 'Inches' and 'cm', convert to float and inches\n",
    "df['screen_size (Inches)'] = df['screen_size (Inches)'].str.replace('Inches', '')\n",
    "df['screen_size (Inches)'] = df['screen_size (Inches)'].apply(convert_cm_to_inches)\n",
    "df['screen_size (Inches)'] = df['screen_size (Inches)'].apply(convert_feet_to_inches)\n",
    "df['screen_size (Inches)'] = df['screen_size (Inches)'].apply(convert_mm_to_inches)\n",
    "df['screen_size (Inches)'] = df['screen_size (Inches)'].apply(convert_meters_to_inches)\n",
    "\n",
    "df['screen_size (Inches)'] = df['screen_size (Inches)'].astype(float)\n"
   ]
  },
  {
   "cell_type": "code",
   "execution_count": 14,
   "id": "027b6f11",
   "metadata": {},
   "outputs": [],
   "source": [
    "# Define a function to round discount to 2 decimal places\n",
    "def round_discount(value):\n",
    "    try:\n",
    "        return round(float(value), 2)\n",
    "    except ValueError:\n",
    "        return value\n",
    "\n",
    "# Apply the function to round 'discount' column to 2 decimal places\n",
    "df['discount_percentage'] = df['discount_percentage'].apply(round_discount)\n",
    "df['price_before_discount'] = df['price_before_discount'].apply(round_discount)"
   ]
  },
  {
   "cell_type": "code",
   "execution_count": 15,
   "id": "f33b5d63",
   "metadata": {},
   "outputs": [],
   "source": [
    "df.rename(columns={'price': 'Price (Dollar)'}, inplace=True)\n"
   ]
  },
  {
   "cell_type": "code",
   "execution_count": 16,
   "id": "000a3589",
   "metadata": {},
   "outputs": [],
   "source": [
    "df = df.sort_values(by='number_of_ratings', ascending=False)\n"
   ]
  },
  {
   "cell_type": "code",
   "execution_count": 17,
   "id": "d6092dfb",
   "metadata": {},
   "outputs": [],
   "source": [
    "df.insert(0, 'ID', range(1, len(df) + 1))\n"
   ]
  },
  {
   "cell_type": "code",
   "execution_count": 18,
   "id": "bcd5a7f6",
   "metadata": {},
   "outputs": [],
   "source": [
    "df.loc[df['discount_percentage'] < 0, 'discount_percentage'] = 0\n",
    "df.loc[df['discount_percentage'] == 0, 'price_before_discount'] = np.nan"
   ]
  },
  {
   "cell_type": "code",
   "execution_count": 19,
   "id": "8666b24d",
   "metadata": {},
   "outputs": [],
   "source": [
    "df.to_csv('Data_After_Cleaning.csv', index=False)\n"
   ]
  }
 ],
 "metadata": {
  "kernelspec": {
   "display_name": "Python 3 (ipykernel)",
   "language": "python",
   "name": "python3"
  },
  "language_info": {
   "codemirror_mode": {
    "name": "ipython",
    "version": 3
   },
   "file_extension": ".py",
   "mimetype": "text/x-python",
   "name": "python",
   "nbconvert_exporter": "python",
   "pygments_lexer": "ipython3",
   "version": "3.11.7"
  }
 },
 "nbformat": 4,
 "nbformat_minor": 5
}
